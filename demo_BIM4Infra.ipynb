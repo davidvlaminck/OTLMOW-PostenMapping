{
  "nbformat": 4,
  "nbformat_minor": 0,
  "metadata": {
    "colab": {
      "provenance": [],
      "authorship_tag": "ABX9TyMqf3SQoqN93B6VlJ7hIG55",
      "include_colab_link": true
    },
    "kernelspec": {
      "name": "python3",
      "display_name": "Python 3"
    },
    "language_info": {
      "name": "python"
    }
  },
  "cells": [
    {
      "cell_type": "markdown",
      "metadata": {
        "id": "view-in-github",
        "colab_type": "text"
      },
      "source": [
        "<a href=\"https://colab.research.google.com/github/davidvlaminck/OTLMOW-PostenMapping/blob/13-create-notebook-bim4infra/demo_BIM4Infra.ipynb\" target=\"_parent\"><img src=\"https://colab.research.google.com/assets/colab-badge.svg\" alt=\"Open In Colab\"/></a>"
      ]
    },
    {
      "cell_type": "markdown",
      "source": [
        "Installeer de library"
      ],
      "metadata": {
        "id": "trTGxdykz-IP"
      }
    },
    {
      "cell_type": "code",
      "source": [
        "pip install otlmow-postenmapping"
      ],
      "metadata": {
        "id": "qdTEb5g30AI_",
        "colab": {
          "base_uri": "https://localhost:8080/"
        },
        "outputId": "21dc3adc-21b9-4c90-88aa-ece7b7d17f3a",
        "collapsed": true
      },
      "execution_count": 13,
      "outputs": [
        {
          "output_type": "stream",
          "name": "stdout",
          "text": [
            "Requirement already satisfied: otlmow-postenmapping in /usr/local/lib/python3.10/dist-packages (0.4)\n",
            "Requirement already satisfied: otlmow_converter>=1.5 in /usr/local/lib/python3.10/dist-packages (from otlmow-postenmapping) (1.5)\n",
            "Requirement already satisfied: sqlalchemy>=2.0.35 in /usr/local/lib/python3.10/dist-packages (from otlmow-postenmapping) (2.0.36)\n",
            "Requirement already satisfied: otlmow_template>=0.5 in /usr/local/lib/python3.10/dist-packages (from otlmow-postenmapping) (0.5)\n",
            "Requirement already satisfied: openpyxl>=3.0 in /usr/local/lib/python3.10/dist-packages (from otlmow_converter>=1.5->otlmow-postenmapping) (3.1.5)\n",
            "Requirement already satisfied: otlmow-model>=2.13.4.0 in /usr/local/lib/python3.10/dist-packages (from otlmow_converter>=1.5->otlmow-postenmapping) (2.13.4.1)\n",
            "Requirement already satisfied: rdflib>=6.0.0 in /usr/local/lib/python3.10/dist-packages (from otlmow_converter>=1.5->otlmow-postenmapping) (7.1.1)\n",
            "Requirement already satisfied: geojson>=3.0.1 in /usr/local/lib/python3.10/dist-packages (from otlmow_converter>=1.5->otlmow-postenmapping) (3.1.0)\n",
            "Requirement already satisfied: prettytable>=3.6.0 in /usr/local/lib/python3.10/dist-packages (from otlmow_converter>=1.5->otlmow-postenmapping) (3.12.0)\n",
            "Requirement already satisfied: lxml>=4.9.3 in /usr/local/lib/python3.10/dist-packages (from otlmow_converter>=1.5->otlmow-postenmapping) (5.3.0)\n",
            "Requirement already satisfied: pandas>=1.3.5 in /usr/local/lib/python3.10/dist-packages (from otlmow_converter>=1.5->otlmow-postenmapping) (2.2.2)\n",
            "Requirement already satisfied: coverage>=3.7.1 in /usr/local/lib/python3.10/dist-packages (from otlmow_converter>=1.5->otlmow-postenmapping) (7.6.8)\n",
            "Requirement already satisfied: pytest>=6.2.5 in /usr/local/lib/python3.10/dist-packages (from otlmow_converter>=1.5->otlmow-postenmapping) (8.3.3)\n",
            "Requirement already satisfied: pytest-cov==4.0.0 in /usr/local/lib/python3.10/dist-packages (from otlmow_converter>=1.5->otlmow-postenmapping) (4.0.0)\n",
            "Requirement already satisfied: pytest-subtests>=0.8.0 in /usr/local/lib/python3.10/dist-packages (from otlmow_converter>=1.5->otlmow-postenmapping) (0.13.1)\n",
            "Requirement already satisfied: cachetools>=5.3.0 in /usr/local/lib/python3.10/dist-packages (from otlmow_converter>=1.5->otlmow-postenmapping) (5.5.0)\n",
            "Requirement already satisfied: otlmow-modelbuilder>=0.24 in /usr/local/lib/python3.10/dist-packages (from otlmow_template>=0.5->otlmow-postenmapping) (0.25)\n",
            "Requirement already satisfied: typing-extensions>=4.6.0 in /usr/local/lib/python3.10/dist-packages (from sqlalchemy>=2.0.35->otlmow-postenmapping) (4.12.2)\n",
            "Requirement already satisfied: greenlet!=0.4.17 in /usr/local/lib/python3.10/dist-packages (from sqlalchemy>=2.0.35->otlmow-postenmapping) (3.1.1)\n",
            "Requirement already satisfied: et-xmlfile in /usr/local/lib/python3.10/dist-packages (from openpyxl>=3.0->otlmow_converter>=1.5->otlmow-postenmapping) (2.0.0)\n",
            "Requirement already satisfied: tqdm>=4.66.1 in /usr/local/lib/python3.10/dist-packages (from otlmow-modelbuilder>=0.24->otlmow_template>=0.5->otlmow-postenmapping) (4.66.6)\n",
            "Requirement already satisfied: numpy>=1.22.4 in /usr/local/lib/python3.10/dist-packages (from pandas>=1.3.5->otlmow_converter>=1.5->otlmow-postenmapping) (1.26.4)\n",
            "Requirement already satisfied: python-dateutil>=2.8.2 in /usr/local/lib/python3.10/dist-packages (from pandas>=1.3.5->otlmow_converter>=1.5->otlmow-postenmapping) (2.8.2)\n",
            "Requirement already satisfied: pytz>=2020.1 in /usr/local/lib/python3.10/dist-packages (from pandas>=1.3.5->otlmow_converter>=1.5->otlmow-postenmapping) (2024.2)\n",
            "Requirement already satisfied: tzdata>=2022.7 in /usr/local/lib/python3.10/dist-packages (from pandas>=1.3.5->otlmow_converter>=1.5->otlmow-postenmapping) (2024.2)\n",
            "Requirement already satisfied: wcwidth in /usr/local/lib/python3.10/dist-packages (from prettytable>=3.6.0->otlmow_converter>=1.5->otlmow-postenmapping) (0.2.13)\n",
            "Requirement already satisfied: iniconfig in /usr/local/lib/python3.10/dist-packages (from pytest>=6.2.5->otlmow_converter>=1.5->otlmow-postenmapping) (2.0.0)\n",
            "Requirement already satisfied: packaging in /usr/local/lib/python3.10/dist-packages (from pytest>=6.2.5->otlmow_converter>=1.5->otlmow-postenmapping) (24.2)\n",
            "Requirement already satisfied: pluggy<2,>=1.5 in /usr/local/lib/python3.10/dist-packages (from pytest>=6.2.5->otlmow_converter>=1.5->otlmow-postenmapping) (1.5.0)\n",
            "Requirement already satisfied: exceptiongroup>=1.0.0rc8 in /usr/local/lib/python3.10/dist-packages (from pytest>=6.2.5->otlmow_converter>=1.5->otlmow-postenmapping) (1.2.2)\n",
            "Requirement already satisfied: tomli>=1 in /usr/local/lib/python3.10/dist-packages (from pytest>=6.2.5->otlmow_converter>=1.5->otlmow-postenmapping) (2.1.0)\n",
            "Requirement already satisfied: attrs>=19.2.0 in /usr/local/lib/python3.10/dist-packages (from pytest-subtests>=0.8.0->otlmow_converter>=1.5->otlmow-postenmapping) (24.2.0)\n",
            "Requirement already satisfied: isodate<1.0.0,>=0.7.2 in /usr/local/lib/python3.10/dist-packages (from rdflib>=6.0.0->otlmow_converter>=1.5->otlmow-postenmapping) (0.7.2)\n",
            "Requirement already satisfied: pyparsing<4,>=2.1.0 in /usr/local/lib/python3.10/dist-packages (from rdflib>=6.0.0->otlmow_converter>=1.5->otlmow-postenmapping) (3.2.0)\n",
            "Requirement already satisfied: six>=1.5 in /usr/local/lib/python3.10/dist-packages (from python-dateutil>=2.8.2->pandas>=1.3.5->otlmow_converter>=1.5->otlmow-postenmapping) (1.16.0)\n"
          ]
        }
      ]
    },
    {
      "cell_type": "markdown",
      "source": [
        "Download het testbestand (en voorlopig nog het artefact)"
      ],
      "metadata": {
        "id": "MRJHUivr0CbB"
      }
    },
    {
      "cell_type": "code",
      "source": [
        "from urllib.request import urlretrieve\n",
        "urlretrieve('https://github.com/davidvlaminck/OTLMOW-PostenMapping/raw/refs/heads/master/start_bestand_demo_bim4infra.xlsx', 'start_bestand_demo_bim4infra.xlsx')\n",
        "urlretrieve('https://github.com/davidvlaminck/OTLMOW-PostenMapping/raw/refs/heads/master/templates-Mapping_Artefact-20241127.db', 'templates-Mapping_Artefact-20241127.db')"
      ],
      "metadata": {
        "id": "EXm2X7P10ExI",
        "colab": {
          "base_uri": "https://localhost:8080/"
        },
        "outputId": "447cce1c-c002-4c7d-d4fd-4051caccb2fb",
        "collapsed": true
      },
      "execution_count": 14,
      "outputs": [
        {
          "output_type": "execute_result",
          "data": {
            "text/plain": [
              "('templates-Mapping_Artefact-20241127.db',\n",
              " <http.client.HTTPMessage at 0x7cfe82fa3ac0>)"
            ]
          },
          "metadata": {},
          "execution_count": 14
        }
      ]
    },
    {
      "cell_type": "markdown",
      "source": [
        "# Voer de **Postenmapping** uit:\n",
        "\n",
        "* Aanmaken eigenschappen van hoofdasset\n",
        "* Aanmaken child-assets, inclusief eigenschappen\n",
        "* Aanmaken relaties tussen assets"
      ],
      "metadata": {
        "id": "mXcpRbxEZ1FL"
      }
    },
    {
      "cell_type": "markdown",
      "source": [
        "Importeer de modules"
      ],
      "metadata": {
        "id": "EB31lv2-Z-SV"
      }
    },
    {
      "cell_type": "code",
      "source": [
        "from pathlib import Path\n",
        "from otlmow_converter.OtlmowConverter import OtlmowConverter\n",
        "from otlmow_postenmapping.PostAssetFactory import PostAssetFactory\n",
        "\n",
        "this_directory = Path('.').parent"
      ],
      "metadata": {
        "id": "-90owmFUaniq"
      },
      "execution_count": 15,
      "outputs": []
    },
    {
      "cell_type": "markdown",
      "source": [
        "Maak een PostAssetFactory aan. Importeer de SQLITE PostenMappingArtefact."
      ],
      "metadata": {
        "id": "sA00pntO0NjO"
      }
    },
    {
      "cell_type": "code",
      "source": [
        "f = PostAssetFactory(mapping_artefact_path=this_directory / 'templates-Mapping_Artefact-20241127.db',\n",
        "                     directory=this_directory)"
      ],
      "metadata": {
        "id": "8vK6t2MIbXsF"
      },
      "execution_count": 16,
      "outputs": []
    },
    {
      "cell_type": "markdown",
      "source": [
        "Lees de start-assets in en converteer deze naar OTLObjecten."
      ],
      "metadata": {
        "id": "BPTTEzfnazGA"
      }
    },
    {
      "cell_type": "code",
      "source": [
        "start_assets = OtlmowConverter().from_file_to_objects(file_path=this_directory / 'start_bestand_demo_bim4infra.xlsx')"
      ],
      "metadata": {
        "id": "Qhc3ai_MbanB"
      },
      "execution_count": 17,
      "outputs": []
    },
    {
      "cell_type": "markdown",
      "source": [
        "Creëer assets en schrijf weg naar een Excel file.\n",
        "\n",
        "\n",
        "1.   keep_original_attributes: True; append_all_attributes: False\n",
        "2.   keep_original_attributes: False; append_all_attributes: False\n",
        "3.   keep_original_attributes: True; append_all_attributes: True\n",
        "\n",
        "Parameters van de functie **create_assets_from_mapping_and_write_to_file()**:\n",
        "\n",
        "- **keep_original_attributes**: keep the original attributes from the start_assets and do not overwrite them with attributes that are eventually defined in the Postenmapping template. *Behoud alle attribuutwaarden die aanwezig zijn voor de start-assets. Overschrijf ze niet met eventuele attribuutwaarden die in de Postenmapping template gedefinieerd zijn.*\n",
        "- **append_all_attributes**: in the output file, append all the attributes that are available for every asset. *In de output file, voeg alle attributen toe die beschikbaar zijn voor iedere asset. Zowel de hoofdasset als de child-assets.*"
      ],
      "metadata": {
        "id": "PhBLMVxPa53w"
      }
    },
    {
      "cell_type": "code",
      "source": [
        "f.create_assets_from_mapping_and_write_to_file(start_assets=start_assets,\n",
        "                                                output_path=this_directory / 'output_1.xlsx',\n",
        "                                                keep_original_attributes=True,\n",
        "                                                append_all_attributes=False\n",
        "                                               )\n",
        "\n",
        "f.create_assets_from_mapping_and_write_to_file(start_assets=start_assets,\n",
        "                                                output_path=this_directory / 'output_2.xlsx',\n",
        "                                                keep_original_attributes=False,\n",
        "                                                append_all_attributes=False\n",
        "                                                )\n",
        "\n",
        "f.create_assets_from_mapping_and_write_to_file(start_assets=start_assets,\n",
        "                                                output_path=this_directory / 'output_3.xlsx',\n",
        "                                                keep_original_attributes=True,\n",
        "                                                append_all_attributes=True\n",
        "                                                )"
      ],
      "metadata": {
        "id": "UKUCnKiL-QTB",
        "outputId": "e45e5256-e2c6-4690-de40-172c32200a50",
        "colab": {
          "base_uri": "https://localhost:8080/"
        }
      },
      "execution_count": 18,
      "outputs": [
        {
          "output_type": "stream",
          "name": "stderr",
          "text": [
            "WARNING:root:https://wegenenverkeer.data.vlaanderen.be/ns/onderdeel#Lichtmast.beschermlaag is deprecated since version 2.12.0\n",
            "WARNING:root:https://wegenenverkeer.data.vlaanderen.be/ns/onderdeel#Lichtmast.beschermlaag is deprecated since version 2.12.0\n",
            "WARNING:root:https://wegenenverkeer.data.vlaanderen.be/ns/onderdeel#Lichtmast.beschermlaag is deprecated since version 2.12.0\n",
            "WARNING:root:https://wegenenverkeer.data.vlaanderen.be/ns/onderdeel#Lichtmast.beschermlaag is deprecated since version 2.12.0\n",
            "WARNING:root:https://wegenenverkeer.data.vlaanderen.be/ns/onderdeel#Lichtmast.beschermlaag is deprecated since version 2.12.0\n",
            "WARNING:root:https://wegenenverkeer.data.vlaanderen.be/ns/onderdeel#Lichtmast.beschermlaag is deprecated since version 2.12.0\n",
            "WARNING:root:https://wegenenverkeer.data.vlaanderen.be/ns/onderdeel#VerlichtingstoestelLED.armatuurkleur is deprecated since version 2.3.0\n",
            "WARNING:root:https://wegenenverkeer.data.vlaanderen.be/ns/onderdeel#VerlichtingstoestelLED.armatuurkleur is deprecated since version 2.3.0\n",
            "WARNING:root:https://wegenenverkeer.data.vlaanderen.be/ns/onderdeel#VerlichtingstoestelLED.tussenAfstand is deprecated since version 2.4.0\n",
            "WARNING:root:https://wegenenverkeer.data.vlaanderen.be/ns/onderdeel#VerlichtingstoestelLED.armatuurkleur is deprecated since version 2.3.0\n"
          ]
        }
      ]
    }
  ]
}