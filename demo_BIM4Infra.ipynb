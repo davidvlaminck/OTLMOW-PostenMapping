{
  "nbformat": 4,
  "nbformat_minor": 0,
  "metadata": {
    "colab": {
      "provenance": [],
      "authorship_tag": "ABX9TyMn5ZOi1ErXZKDT8aks21Ff",
      "include_colab_link": true
    },
    "kernelspec": {
      "name": "python3",
      "display_name": "Python 3"
    },
    "language_info": {
      "name": "python"
    }
  },
  "cells": [
    {
      "cell_type": "markdown",
      "metadata": {
        "id": "view-in-github",
        "colab_type": "text"
      },
      "source": [
        "<a href=\"https://colab.research.google.com/github/davidvlaminck/OTLMOW-PostenMapping/blob/13-create-notebook-bim4infra/demo_BIM4Infra.ipynb\" target=\"_parent\"><img src=\"https://colab.research.google.com/assets/colab-badge.svg\" alt=\"Open In Colab\"/></a>"
      ]
    },
    {
      "cell_type": "code",
      "execution_count": null,
      "metadata": {
        "id": "AThdq9PQz3jN"
      },
      "outputs": [],
      "source": []
    },
    {
      "cell_type": "markdown",
      "source": [
        "Installeert de library"
      ],
      "metadata": {
        "id": "trTGxdykz-IP"
      }
    },
    {
      "cell_type": "code",
      "source": [
        "pip install otlmow-postenmapping"
      ],
      "metadata": {
        "id": "qdTEb5g30AI_"
      },
      "execution_count": null,
      "outputs": []
    },
    {
      "cell_type": "markdown",
      "source": [
        "Download het testbestand (en voorlopig nog het artefact)"
      ],
      "metadata": {
        "id": "MRJHUivr0CbB"
      }
    },
    {
      "cell_type": "code",
      "source": [
        "from urllib.request import urlretrieve\n",
        "urlretrieve('https://github.com/davidvlaminck/OTLMOW-PostenMapping/raw/refs/heads/master/start_bestand.xlsx', 'start_bestand.xlsx')\n",
        "urlretrieve('https://github.com/davidvlaminck/OTLMOW-PostenMapping/raw/refs/heads/master/templates-Mapping_Artefact-versie%20kris%200.1.db', 'templates-Mapping_Artefact-versie kris 0.1.db')"
      ],
      "metadata": {
        "id": "EXm2X7P10ExI"
      },
      "execution_count": null,
      "outputs": []
    },
    {
      "cell_type": "markdown",
      "source": [
        "*Voer* de \"Magie\" uit"
      ],
      "metadata": {
        "id": "U4-tCyQB0Hmu"
      }
    },
    {
      "cell_type": "code",
      "source": [
        "from pathlib import Path\n",
        "\n",
        "from otlmow_converter.OtlmowConverter import OtlmowConverter\n",
        "from otlmow_postenmapping.PostAssetFactory import PostAssetFactory\n",
        "\n",
        "\n",
        "this_directory = Path('.').parent\n",
        "f = PostAssetFactory(this_directory / 'templates-Mapping_Artefact-versie kris 0.1.db', directory=this_directory)\n",
        "\n",
        "start_assets = OtlmowConverter().from_file_to_objects(file_path=this_directory / 'start_bestand.xlsx')\n",
        "print(f'loaded {len(start_assets)} assets.')\n",
        "\n",
        "template_created_assets = []\n",
        "for i, asset in enumerate(start_assets):\n",
        "    template_created_assets.extend(f.create_assets_from_mapping(\n",
        "        'WVlichtmast_config1', asset, unique_index=i))\n",
        "\n",
        "OtlmowConverter().from_objects_to_file(sequence_of_objects=template_created_assets,\n",
        "                                        file_path=this_directory / 'output.xlsx')\n",
        "print(f'saved {len(template_created_assets)} assets.')"
      ],
      "metadata": {
        "id": "KwgI7tEi0J1k"
      },
      "execution_count": null,
      "outputs": []
    },
    {
      "cell_type": "markdown",
      "source": [],
      "metadata": {
        "id": "sA00pntO0NjO"
      }
    }
  ]
}