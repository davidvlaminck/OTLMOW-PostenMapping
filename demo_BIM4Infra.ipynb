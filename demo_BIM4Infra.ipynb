{
  "nbformat": 4,
  "nbformat_minor": 0,
  "metadata": {
    "colab": {
      "provenance": [],
      "authorship_tag": "ABX9TyMCTJIbWCiWWxHHxlnLP38n",
      "include_colab_link": true
    },
    "kernelspec": {
      "name": "python3",
      "display_name": "Python 3"
    },
    "language_info": {
      "name": "python"
    }
  },
  "cells": [
    {
      "cell_type": "markdown",
      "metadata": {
        "id": "view-in-github",
        "colab_type": "text"
      },
      "source": [
        "<a href=\"https://colab.research.google.com/github/davidvlaminck/OTLMOW-PostenMapping/blob/13-create-notebook-bim4infra/demo_BIM4Infra.ipynb\" target=\"_parent\"><img src=\"https://colab.research.google.com/assets/colab-badge.svg\" alt=\"Open In Colab\"/></a>"
      ]
    },
    {
      "cell_type": "markdown",
      "source": [
        "Installeer de library"
      ],
      "metadata": {
        "id": "trTGxdykz-IP"
      }
    },
    {
      "cell_type": "code",
      "source": [
        "pip install otlmow-postenmapping"
      ],
      "metadata": {
        "id": "qdTEb5g30AI_",
        "colab": {
          "base_uri": "https://localhost:8080/"
        },
        "collapsed": true,
        "outputId": "75bdf576-ca6b-47ca-bb7b-f108477fa9aa"
      },
      "execution_count": 15,
      "outputs": [
        {
          "output_type": "stream",
          "name": "stdout",
          "text": [
            "Requirement already satisfied: otlmow-postenmapping in /usr/local/lib/python3.10/dist-packages (0.2)\n",
            "Requirement already satisfied: otlmow-converter>=1.2 in /usr/local/lib/python3.10/dist-packages (from otlmow-postenmapping) (1.5)\n",
            "Requirement already satisfied: sqlalchemy>=2.0.35 in /usr/local/lib/python3.10/dist-packages (from otlmow-postenmapping) (2.0.36)\n",
            "Requirement already satisfied: openpyxl>=3.0 in /usr/local/lib/python3.10/dist-packages (from otlmow-converter>=1.2->otlmow-postenmapping) (3.1.5)\n",
            "Requirement already satisfied: otlmow-model>=2.13.4.0 in /usr/local/lib/python3.10/dist-packages (from otlmow-converter>=1.2->otlmow-postenmapping) (2.13.4.1)\n",
            "Requirement already satisfied: rdflib>=6.0.0 in /usr/local/lib/python3.10/dist-packages (from otlmow-converter>=1.2->otlmow-postenmapping) (7.1.1)\n",
            "Requirement already satisfied: geojson>=3.0.1 in /usr/local/lib/python3.10/dist-packages (from otlmow-converter>=1.2->otlmow-postenmapping) (3.1.0)\n",
            "Requirement already satisfied: prettytable>=3.6.0 in /usr/local/lib/python3.10/dist-packages (from otlmow-converter>=1.2->otlmow-postenmapping) (3.12.0)\n",
            "Requirement already satisfied: lxml>=4.9.3 in /usr/local/lib/python3.10/dist-packages (from otlmow-converter>=1.2->otlmow-postenmapping) (5.3.0)\n",
            "Requirement already satisfied: pandas>=1.3.5 in /usr/local/lib/python3.10/dist-packages (from otlmow-converter>=1.2->otlmow-postenmapping) (2.2.2)\n",
            "Requirement already satisfied: coverage>=3.7.1 in /usr/local/lib/python3.10/dist-packages (from otlmow-converter>=1.2->otlmow-postenmapping) (7.6.8)\n",
            "Requirement already satisfied: pytest>=6.2.5 in /usr/local/lib/python3.10/dist-packages (from otlmow-converter>=1.2->otlmow-postenmapping) (8.3.3)\n",
            "Requirement already satisfied: pytest-cov==4.0.0 in /usr/local/lib/python3.10/dist-packages (from otlmow-converter>=1.2->otlmow-postenmapping) (4.0.0)\n",
            "Requirement already satisfied: pytest-subtests>=0.8.0 in /usr/local/lib/python3.10/dist-packages (from otlmow-converter>=1.2->otlmow-postenmapping) (0.13.1)\n",
            "Requirement already satisfied: cachetools>=5.3.0 in /usr/local/lib/python3.10/dist-packages (from otlmow-converter>=1.2->otlmow-postenmapping) (5.5.0)\n",
            "Requirement already satisfied: typing-extensions>=4.6.0 in /usr/local/lib/python3.10/dist-packages (from sqlalchemy>=2.0.35->otlmow-postenmapping) (4.12.2)\n",
            "Requirement already satisfied: greenlet!=0.4.17 in /usr/local/lib/python3.10/dist-packages (from sqlalchemy>=2.0.35->otlmow-postenmapping) (3.1.1)\n",
            "Requirement already satisfied: et-xmlfile in /usr/local/lib/python3.10/dist-packages (from openpyxl>=3.0->otlmow-converter>=1.2->otlmow-postenmapping) (2.0.0)\n",
            "Requirement already satisfied: numpy>=1.22.4 in /usr/local/lib/python3.10/dist-packages (from pandas>=1.3.5->otlmow-converter>=1.2->otlmow-postenmapping) (1.26.4)\n",
            "Requirement already satisfied: python-dateutil>=2.8.2 in /usr/local/lib/python3.10/dist-packages (from pandas>=1.3.5->otlmow-converter>=1.2->otlmow-postenmapping) (2.8.2)\n",
            "Requirement already satisfied: pytz>=2020.1 in /usr/local/lib/python3.10/dist-packages (from pandas>=1.3.5->otlmow-converter>=1.2->otlmow-postenmapping) (2024.2)\n",
            "Requirement already satisfied: tzdata>=2022.7 in /usr/local/lib/python3.10/dist-packages (from pandas>=1.3.5->otlmow-converter>=1.2->otlmow-postenmapping) (2024.2)\n",
            "Requirement already satisfied: wcwidth in /usr/local/lib/python3.10/dist-packages (from prettytable>=3.6.0->otlmow-converter>=1.2->otlmow-postenmapping) (0.2.13)\n",
            "Requirement already satisfied: iniconfig in /usr/local/lib/python3.10/dist-packages (from pytest>=6.2.5->otlmow-converter>=1.2->otlmow-postenmapping) (2.0.0)\n",
            "Requirement already satisfied: packaging in /usr/local/lib/python3.10/dist-packages (from pytest>=6.2.5->otlmow-converter>=1.2->otlmow-postenmapping) (24.2)\n",
            "Requirement already satisfied: pluggy<2,>=1.5 in /usr/local/lib/python3.10/dist-packages (from pytest>=6.2.5->otlmow-converter>=1.2->otlmow-postenmapping) (1.5.0)\n",
            "Requirement already satisfied: exceptiongroup>=1.0.0rc8 in /usr/local/lib/python3.10/dist-packages (from pytest>=6.2.5->otlmow-converter>=1.2->otlmow-postenmapping) (1.2.2)\n",
            "Requirement already satisfied: tomli>=1 in /usr/local/lib/python3.10/dist-packages (from pytest>=6.2.5->otlmow-converter>=1.2->otlmow-postenmapping) (2.1.0)\n",
            "Requirement already satisfied: attrs>=19.2.0 in /usr/local/lib/python3.10/dist-packages (from pytest-subtests>=0.8.0->otlmow-converter>=1.2->otlmow-postenmapping) (24.2.0)\n",
            "Requirement already satisfied: isodate<1.0.0,>=0.7.2 in /usr/local/lib/python3.10/dist-packages (from rdflib>=6.0.0->otlmow-converter>=1.2->otlmow-postenmapping) (0.7.2)\n",
            "Requirement already satisfied: pyparsing<4,>=2.1.0 in /usr/local/lib/python3.10/dist-packages (from rdflib>=6.0.0->otlmow-converter>=1.2->otlmow-postenmapping) (3.2.0)\n",
            "Requirement already satisfied: six>=1.5 in /usr/local/lib/python3.10/dist-packages (from python-dateutil>=2.8.2->pandas>=1.3.5->otlmow-converter>=1.2->otlmow-postenmapping) (1.16.0)\n"
          ]
        }
      ]
    },
    {
      "cell_type": "code",
      "source": [
        "# pip install otlmow_postenmapping --upgrade"
      ],
      "metadata": {
        "collapsed": true,
        "id": "oVKGYV7u9eU4",
        "outputId": "c6096e22-051e-4625-ee44-40f68eba7186",
        "colab": {
          "base_uri": "https://localhost:8080/"
        }
      },
      "execution_count": 16,
      "outputs": [
        {
          "output_type": "stream",
          "name": "stdout",
          "text": [
            "Requirement already satisfied: otlmow_postenmapping in /usr/local/lib/python3.10/dist-packages (0.2)\n",
            "Requirement already satisfied: otlmow-converter>=1.2 in /usr/local/lib/python3.10/dist-packages (from otlmow_postenmapping) (1.5)\n",
            "Requirement already satisfied: sqlalchemy>=2.0.35 in /usr/local/lib/python3.10/dist-packages (from otlmow_postenmapping) (2.0.36)\n",
            "Requirement already satisfied: openpyxl>=3.0 in /usr/local/lib/python3.10/dist-packages (from otlmow-converter>=1.2->otlmow_postenmapping) (3.1.5)\n",
            "Requirement already satisfied: otlmow-model>=2.13.4.0 in /usr/local/lib/python3.10/dist-packages (from otlmow-converter>=1.2->otlmow_postenmapping) (2.13.4.1)\n",
            "Requirement already satisfied: rdflib>=6.0.0 in /usr/local/lib/python3.10/dist-packages (from otlmow-converter>=1.2->otlmow_postenmapping) (7.1.1)\n",
            "Requirement already satisfied: geojson>=3.0.1 in /usr/local/lib/python3.10/dist-packages (from otlmow-converter>=1.2->otlmow_postenmapping) (3.1.0)\n",
            "Requirement already satisfied: prettytable>=3.6.0 in /usr/local/lib/python3.10/dist-packages (from otlmow-converter>=1.2->otlmow_postenmapping) (3.12.0)\n",
            "Requirement already satisfied: lxml>=4.9.3 in /usr/local/lib/python3.10/dist-packages (from otlmow-converter>=1.2->otlmow_postenmapping) (5.3.0)\n",
            "Requirement already satisfied: pandas>=1.3.5 in /usr/local/lib/python3.10/dist-packages (from otlmow-converter>=1.2->otlmow_postenmapping) (2.2.2)\n",
            "Requirement already satisfied: coverage>=3.7.1 in /usr/local/lib/python3.10/dist-packages (from otlmow-converter>=1.2->otlmow_postenmapping) (7.6.8)\n",
            "Requirement already satisfied: pytest>=6.2.5 in /usr/local/lib/python3.10/dist-packages (from otlmow-converter>=1.2->otlmow_postenmapping) (8.3.3)\n",
            "Requirement already satisfied: pytest-cov==4.0.0 in /usr/local/lib/python3.10/dist-packages (from otlmow-converter>=1.2->otlmow_postenmapping) (4.0.0)\n",
            "Requirement already satisfied: pytest-subtests>=0.8.0 in /usr/local/lib/python3.10/dist-packages (from otlmow-converter>=1.2->otlmow_postenmapping) (0.13.1)\n",
            "Requirement already satisfied: cachetools>=5.3.0 in /usr/local/lib/python3.10/dist-packages (from otlmow-converter>=1.2->otlmow_postenmapping) (5.5.0)\n",
            "Requirement already satisfied: typing-extensions>=4.6.0 in /usr/local/lib/python3.10/dist-packages (from sqlalchemy>=2.0.35->otlmow_postenmapping) (4.12.2)\n",
            "Requirement already satisfied: greenlet!=0.4.17 in /usr/local/lib/python3.10/dist-packages (from sqlalchemy>=2.0.35->otlmow_postenmapping) (3.1.1)\n",
            "Requirement already satisfied: et-xmlfile in /usr/local/lib/python3.10/dist-packages (from openpyxl>=3.0->otlmow-converter>=1.2->otlmow_postenmapping) (2.0.0)\n",
            "Requirement already satisfied: numpy>=1.22.4 in /usr/local/lib/python3.10/dist-packages (from pandas>=1.3.5->otlmow-converter>=1.2->otlmow_postenmapping) (1.26.4)\n",
            "Requirement already satisfied: python-dateutil>=2.8.2 in /usr/local/lib/python3.10/dist-packages (from pandas>=1.3.5->otlmow-converter>=1.2->otlmow_postenmapping) (2.8.2)\n",
            "Requirement already satisfied: pytz>=2020.1 in /usr/local/lib/python3.10/dist-packages (from pandas>=1.3.5->otlmow-converter>=1.2->otlmow_postenmapping) (2024.2)\n",
            "Requirement already satisfied: tzdata>=2022.7 in /usr/local/lib/python3.10/dist-packages (from pandas>=1.3.5->otlmow-converter>=1.2->otlmow_postenmapping) (2024.2)\n",
            "Requirement already satisfied: wcwidth in /usr/local/lib/python3.10/dist-packages (from prettytable>=3.6.0->otlmow-converter>=1.2->otlmow_postenmapping) (0.2.13)\n",
            "Requirement already satisfied: iniconfig in /usr/local/lib/python3.10/dist-packages (from pytest>=6.2.5->otlmow-converter>=1.2->otlmow_postenmapping) (2.0.0)\n",
            "Requirement already satisfied: packaging in /usr/local/lib/python3.10/dist-packages (from pytest>=6.2.5->otlmow-converter>=1.2->otlmow_postenmapping) (24.2)\n",
            "Requirement already satisfied: pluggy<2,>=1.5 in /usr/local/lib/python3.10/dist-packages (from pytest>=6.2.5->otlmow-converter>=1.2->otlmow_postenmapping) (1.5.0)\n",
            "Requirement already satisfied: exceptiongroup>=1.0.0rc8 in /usr/local/lib/python3.10/dist-packages (from pytest>=6.2.5->otlmow-converter>=1.2->otlmow_postenmapping) (1.2.2)\n",
            "Requirement already satisfied: tomli>=1 in /usr/local/lib/python3.10/dist-packages (from pytest>=6.2.5->otlmow-converter>=1.2->otlmow_postenmapping) (2.1.0)\n",
            "Requirement already satisfied: attrs>=19.2.0 in /usr/local/lib/python3.10/dist-packages (from pytest-subtests>=0.8.0->otlmow-converter>=1.2->otlmow_postenmapping) (24.2.0)\n",
            "Requirement already satisfied: isodate<1.0.0,>=0.7.2 in /usr/local/lib/python3.10/dist-packages (from rdflib>=6.0.0->otlmow-converter>=1.2->otlmow_postenmapping) (0.7.2)\n",
            "Requirement already satisfied: pyparsing<4,>=2.1.0 in /usr/local/lib/python3.10/dist-packages (from rdflib>=6.0.0->otlmow-converter>=1.2->otlmow_postenmapping) (3.2.0)\n",
            "Requirement already satisfied: six>=1.5 in /usr/local/lib/python3.10/dist-packages (from python-dateutil>=2.8.2->pandas>=1.3.5->otlmow-converter>=1.2->otlmow_postenmapping) (1.16.0)\n"
          ]
        }
      ]
    },
    {
      "cell_type": "markdown",
      "source": [
        "Download het testbestand (en voorlopig nog het artefact)"
      ],
      "metadata": {
        "id": "MRJHUivr0CbB"
      }
    },
    {
      "cell_type": "code",
      "source": [
        "from urllib.request import urlretrieve\n",
        "urlretrieve('https://github.com/davidvlaminck/OTLMOW-PostenMapping/raw/refs/heads/master/start_bestand.xlsx', 'start_bestand.xlsx')\n",
        "urlretrieve('https://github.com/davidvlaminck/OTLMOW-PostenMapping/raw/refs/heads/master/templates-Mapping_Artefact-versie%20kris%200.1.db', 'templates-Mapping_Artefact-versie kris 0.1.db')\n",
        "urlretrieve('https://github.com/davidvlaminck/OTLMOW-PostenMapping/raw/refs/heads/master/templates-Mapping_Artefact-20241127.db', 'templates-Mapping_Artefact-20241127.db')"
      ],
      "metadata": {
        "id": "EXm2X7P10ExI",
        "colab": {
          "base_uri": "https://localhost:8080/"
        },
        "outputId": "85289f6d-a182-4191-8504-1b9280114fd5"
      },
      "execution_count": 23,
      "outputs": [
        {
          "output_type": "execute_result",
          "data": {
            "text/plain": [
              "('templates-Mapping_Artefact-20241127.db',\n",
              " <http.client.HTTPMessage at 0x7cdf0100a9b0>)"
            ]
          },
          "metadata": {},
          "execution_count": 23
        }
      ]
    },
    {
      "cell_type": "markdown",
      "source": [
        "*Voer* de \"Magie\" uit"
      ],
      "metadata": {
        "id": "U4-tCyQB0Hmu"
      }
    },
    {
      "cell_type": "code",
      "source": [
        "from pathlib import Path\n",
        "\n",
        "from otlmow_converter.OtlmowConverter import OtlmowConverter\n",
        "from otlmow_postenmapping.PostAssetFactory import PostAssetFactory\n",
        "\n",
        "\n",
        "this_directory = Path('.').parent\n",
        "f = PostAssetFactory(this_directory / 'templates-Mapping_Artefact-versie kris 0.1.db', directory=this_directory)\n",
        "\n",
        "start_assets = OtlmowConverter().from_file_to_objects(file_path=this_directory / 'start_bestand.xlsx')\n",
        "print(f'loaded {len(start_assets)} assets.')\n",
        "\n",
        "template_created_assets = []\n",
        "for i, asset in enumerate(start_assets):\n",
        "    template_created_assets.extend(f.create_assets_from_mapping(\n",
        "        'WVlichtmast_config1', asset, unique_index=i))\n",
        "\n",
        "OtlmowConverter().from_objects_to_file(sequence_of_objects=template_created_assets,\n",
        "                                        file_path=this_directory / 'output.xlsx')\n",
        "print(f'saved {len(template_created_assets)} assets.')"
      ],
      "metadata": {
        "id": "KwgI7tEi0J1k",
        "colab": {
          "base_uri": "https://localhost:8080/"
        },
        "outputId": "b23564ae-756a-4511-bded-45f2f409f877"
      },
      "execution_count": 19,
      "outputs": [
        {
          "output_type": "stream",
          "name": "stderr",
          "text": [
            "WARNING:root:https://wegenenverkeer.data.vlaanderen.be/ns/onderdeel#Lichtmast.beschermlaag is deprecated since version 2.12.0\n",
            "WARNING:root:https://wegenenverkeer.data.vlaanderen.be/ns/onderdeel#Lichtmast.beschermlaag is deprecated since version 2.12.0\n",
            "WARNING:root:https://wegenenverkeer.data.vlaanderen.be/ns/onderdeel#Lichtmast.beschermlaag is deprecated since version 2.12.0\n",
            "WARNING:root:https://wegenenverkeer.data.vlaanderen.be/ns/onderdeel#Lichtmast.beschermlaag is deprecated since version 2.12.0\n",
            "WARNING:root:https://wegenenverkeer.data.vlaanderen.be/ns/onderdeel#Lichtmast.beschermlaag is deprecated since version 2.12.0\n"
          ]
        },
        {
          "output_type": "stream",
          "name": "stdout",
          "text": [
            "loaded 5 assets.\n"
          ]
        },
        {
          "output_type": "stream",
          "name": "stderr",
          "text": [
            "/usr/local/lib/python3.10/dist-packages/openpyxl/workbook/child.py:99: UserWarning: Title is more than 31 characters. Some applications may not be able to read the file\n",
            "  warnings.warn(\"Title is more than 31 characters. Some applications may not be able to read the file\")\n"
          ]
        },
        {
          "output_type": "stream",
          "name": "stdout",
          "text": [
            "saved 50 assets.\n"
          ]
        }
      ]
    },
    {
      "cell_type": "code",
      "source": [
        "from pathlib import Path\n",
        "from otlmow_converter.OtlmowConverter import OtlmowConverter\n",
        "from otlmow_postenmapping.PostAssetFactory import PostAssetFactory\n",
        "\n",
        "this_directory = Path('.').parent\n",
        "f = PostAssetFactory(this_directory / 'templates-Mapping_Artefact-versie kris 0.1.db',\n",
        "                      directory=this_directory,\n",
        "                      mapping_name='templates_mapping_artefact_krisVDS'\n",
        "                      )\n",
        "\n",
        "start_assets = OtlmowConverter().from_file_to_objects(file_path=this_directory / 'start_bestand.xlsx')\n",
        "\n",
        "f.create_assets_from_mapping_and_write_to_file(start_assets=start_assets,\n",
        "                                                output_path=this_directory / 'output.xlsx',\n",
        "                                                keep_original_attributes=True,\n",
        "                                                append_all_attributes=True\n",
        "                                                )"
      ],
      "metadata": {
        "id": "UKUCnKiL-QTB",
        "outputId": "15f4765d-6e9d-4ccb-cab4-cd67b8e06183",
        "colab": {
          "base_uri": "https://localhost:8080/",
          "height": 211
        }
      },
      "execution_count": 22,
      "outputs": [
        {
          "output_type": "error",
          "ename": "AttributeError",
          "evalue": "'PostAssetFactory' object has no attribute 'create_assets_from_mapping_and_write_to_file'",
          "traceback": [
            "\u001b[0;31m---------------------------------------------------------------------------\u001b[0m",
            "\u001b[0;31mAttributeError\u001b[0m                            Traceback (most recent call last)",
            "\u001b[0;32m<ipython-input-22-d3e1f02de636>\u001b[0m in \u001b[0;36m<cell line: 13>\u001b[0;34m()\u001b[0m\n\u001b[1;32m     11\u001b[0m \u001b[0mstart_assets\u001b[0m \u001b[0;34m=\u001b[0m \u001b[0mOtlmowConverter\u001b[0m\u001b[0;34m(\u001b[0m\u001b[0;34m)\u001b[0m\u001b[0;34m.\u001b[0m\u001b[0mfrom_file_to_objects\u001b[0m\u001b[0;34m(\u001b[0m\u001b[0mfile_path\u001b[0m\u001b[0;34m=\u001b[0m\u001b[0mthis_directory\u001b[0m \u001b[0;34m/\u001b[0m \u001b[0;34m'start_bestand.xlsx'\u001b[0m\u001b[0;34m)\u001b[0m\u001b[0;34m\u001b[0m\u001b[0;34m\u001b[0m\u001b[0m\n\u001b[1;32m     12\u001b[0m \u001b[0;34m\u001b[0m\u001b[0m\n\u001b[0;32m---> 13\u001b[0;31m f.create_assets_from_mapping_and_write_to_file(start_assets=start_assets,\n\u001b[0m\u001b[1;32m     14\u001b[0m                                                 \u001b[0moutput_path\u001b[0m\u001b[0;34m=\u001b[0m\u001b[0mthis_directory\u001b[0m \u001b[0;34m/\u001b[0m \u001b[0;34m'output.xlsx'\u001b[0m\u001b[0;34m,\u001b[0m\u001b[0;34m\u001b[0m\u001b[0;34m\u001b[0m\u001b[0m\n\u001b[1;32m     15\u001b[0m                                                 \u001b[0mkeep_original_attributes\u001b[0m\u001b[0;34m=\u001b[0m\u001b[0;32mTrue\u001b[0m\u001b[0;34m,\u001b[0m\u001b[0;34m\u001b[0m\u001b[0;34m\u001b[0m\u001b[0m\n",
            "\u001b[0;31mAttributeError\u001b[0m: 'PostAssetFactory' object has no attribute 'create_assets_from_mapping_and_write_to_file'"
          ]
        }
      ]
    },
    {
      "cell_type": "markdown",
      "source": [],
      "metadata": {
        "id": "sA00pntO0NjO"
      }
    }
  ]
}