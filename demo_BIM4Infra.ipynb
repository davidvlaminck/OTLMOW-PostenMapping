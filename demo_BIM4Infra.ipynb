{
  "nbformat": 4,
  "nbformat_minor": 0,
  "metadata": {
    "colab": {
      "provenance": [],
      "authorship_tag": "ABX9TyMt0DOWUW7ugpbZhNQz/qXm",
      "include_colab_link": true
    },
    "kernelspec": {
      "name": "python3",
      "display_name": "Python 3"
    },
    "language_info": {
      "name": "python"
    }
  },
  "cells": [
    {
      "cell_type": "markdown",
      "metadata": {
        "id": "view-in-github",
        "colab_type": "text"
      },
      "source": [
        "<a href=\"https://colab.research.google.com/github/davidvlaminck/OTLMOW-PostenMapping/blob/13-create-notebook-bim4infra/demo_BIM4Infra.ipynb\" target=\"_parent\"><img src=\"https://colab.research.google.com/assets/colab-badge.svg\" alt=\"Open In Colab\"/></a>"
      ]
    },
    {
      "cell_type": "markdown",
      "source": [
        "Installeert de library"
      ],
      "metadata": {
        "id": "trTGxdykz-IP"
      }
    },
    {
      "cell_type": "code",
      "source": [
        "pip install otlmow-postenmapping"
      ],
      "metadata": {
        "id": "qdTEb5g30AI_"
      },
      "execution_count": null,
      "outputs": []
    },
    {
      "cell_type": "markdown",
      "source": [
        "Download het testbestand (en voorlopig nog het artefact)"
      ],
      "metadata": {
        "id": "MRJHUivr0CbB"
      }
    },
    {
      "cell_type": "code",
      "source": [
        "from urllib.request import urlretrieve\n",
        "urlretrieve('https://github.com/davidvlaminck/OTLMOW-PostenMapping/raw/refs/heads/master/start_bestand.xlsx', 'start_bestand.xlsx')\n",
        "urlretrieve('https://github.com/davidvlaminck/OTLMOW-PostenMapping/raw/refs/heads/master/templates-Mapping_Artefact-versie%20kris%200.1.db', 'templates-Mapping_Artefact-versie kris 0.1.db')"
      ],
      "metadata": {
        "id": "EXm2X7P10ExI",
        "outputId": "233bda1c-ddca-4453-9d81-0baa90ccefd4",
        "colab": {
          "base_uri": "https://localhost:8080/"
        }
      },
      "execution_count": 6,
      "outputs": [
        {
          "output_type": "execute_result",
          "data": {
            "text/plain": [
              "('templates-Mapping_Artefact-versie kris 0.1.db',\n",
              " <http.client.HTTPMessage at 0x7cdf0341f7f0>)"
            ]
          },
          "metadata": {},
          "execution_count": 6
        }
      ]
    },
    {
      "cell_type": "markdown",
      "source": [
        "*Voer* de \"Magie\" uit"
      ],
      "metadata": {
        "id": "U4-tCyQB0Hmu"
      }
    },
    {
      "cell_type": "code",
      "source": [
        "from pathlib import Path\n",
        "\n",
        "from otlmow_converter.OtlmowConverter import OtlmowConverter\n",
        "from otlmow_postenmapping.PostAssetFactory import PostAssetFactory\n",
        "\n",
        "\n",
        "this_directory = Path('.').parent\n",
        "f = PostAssetFactory(this_directory / 'templates-Mapping_Artefact-versie kris 0.1.db', directory=this_directory)\n",
        "\n",
        "start_assets = OtlmowConverter().from_file_to_objects(file_path=this_directory / 'start_bestand.xlsx')\n",
        "print(f'loaded {len(start_assets)} assets.')\n",
        "\n",
        "template_created_assets = []\n",
        "for i, asset in enumerate(start_assets):\n",
        "    template_created_assets.extend(f.create_assets_from_mapping(\n",
        "        'WVlichtmast_config1', asset, unique_index=i))\n",
        "\n",
        "OtlmowConverter().from_objects_to_file(sequence_of_objects=template_created_assets,\n",
        "                                        file_path=this_directory / 'output.xlsx')\n",
        "print(f'saved {len(template_created_assets)} assets.')"
      ],
      "metadata": {
        "id": "KwgI7tEi0J1k",
        "outputId": "0b98ca27-7e72-4569-8040-d697c9993008",
        "colab": {
          "base_uri": "https://localhost:8080/",
          "height": 228
        }
      },
      "execution_count": 7,
      "outputs": [
        {
          "output_type": "stream",
          "name": "stdout",
          "text": [
            "loaded 5 assets.\n"
          ]
        },
        {
          "output_type": "error",
          "ename": "AttributeError",
          "evalue": "'PostAssetFactory' object has no attribute 'create_assets_from_mapping'",
          "traceback": [
            "\u001b[0;31m---------------------------------------------------------------------------\u001b[0m",
            "\u001b[0;31mAttributeError\u001b[0m                            Traceback (most recent call last)",
            "\u001b[0;32m<ipython-input-7-50544804af39>\u001b[0m in \u001b[0;36m<cell line: 14>\u001b[0;34m()\u001b[0m\n\u001b[1;32m     13\u001b[0m \u001b[0mtemplate_created_assets\u001b[0m \u001b[0;34m=\u001b[0m \u001b[0;34m[\u001b[0m\u001b[0;34m]\u001b[0m\u001b[0;34m\u001b[0m\u001b[0;34m\u001b[0m\u001b[0m\n\u001b[1;32m     14\u001b[0m \u001b[0;32mfor\u001b[0m \u001b[0mi\u001b[0m\u001b[0;34m,\u001b[0m \u001b[0masset\u001b[0m \u001b[0;32min\u001b[0m \u001b[0menumerate\u001b[0m\u001b[0;34m(\u001b[0m\u001b[0mstart_assets\u001b[0m\u001b[0;34m)\u001b[0m\u001b[0;34m:\u001b[0m\u001b[0;34m\u001b[0m\u001b[0;34m\u001b[0m\u001b[0m\n\u001b[0;32m---> 15\u001b[0;31m     template_created_assets.extend(f.create_assets_from_mapping(\n\u001b[0m\u001b[1;32m     16\u001b[0m         'WVlichtmast_config1', asset, unique_index=i))\n\u001b[1;32m     17\u001b[0m \u001b[0;34m\u001b[0m\u001b[0m\n",
            "\u001b[0;31mAttributeError\u001b[0m: 'PostAssetFactory' object has no attribute 'create_assets_from_mapping'"
          ]
        }
      ]
    },
    {
      "cell_type": "markdown",
      "source": [],
      "metadata": {
        "id": "sA00pntO0NjO"
      }
    }
  ]
}