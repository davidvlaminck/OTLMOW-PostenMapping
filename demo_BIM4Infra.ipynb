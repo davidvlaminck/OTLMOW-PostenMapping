{
  "nbformat": 4,
  "nbformat_minor": 0,
  "metadata": {
    "colab": {
      "provenance": [],
      "authorship_tag": "ABX9TyNohMrI8rX4q2nFCU+vBGGI",
      "include_colab_link": true
    },
    "kernelspec": {
      "name": "python3",
      "display_name": "Python 3"
    },
    "language_info": {
      "name": "python"
    }
  },
  "cells": [
    {
      "cell_type": "markdown",
      "metadata": {
        "id": "view-in-github",
        "colab_type": "text"
      },
      "source": [
        "<a href=\"https://colab.research.google.com/github/davidvlaminck/OTLMOW-PostenMapping/blob/13-create-notebook-bim4infra/demo_BIM4Infra.ipynb\" target=\"_parent\"><img src=\"https://colab.research.google.com/assets/colab-badge.svg\" alt=\"Open In Colab\"/></a>"
      ]
    },
    {
      "cell_type": "markdown",
      "source": [
        "Installeer de library"
      ],
      "metadata": {
        "id": "trTGxdykz-IP"
      }
    },
    {
      "cell_type": "code",
      "source": [
        "pip install otlmow-postenmapping"
      ],
      "metadata": {
        "id": "qdTEb5g30AI_",
        "colab": {
          "base_uri": "https://localhost:8080/"
        },
        "outputId": "40067aae-6bea-41ac-e773-1dd09fc3777a"
      },
      "execution_count": 8,
      "outputs": [
        {
          "output_type": "stream",
          "name": "stdout",
          "text": [
            "Requirement already satisfied: otlmow-postenmapping in /usr/local/lib/python3.10/dist-packages (0.3)\n",
            "Requirement already satisfied: otlmow_converter>=1.5 in /usr/local/lib/python3.10/dist-packages (from otlmow-postenmapping) (1.5)\n",
            "Requirement already satisfied: sqlalchemy>=2.0.35 in /usr/local/lib/python3.10/dist-packages (from otlmow-postenmapping) (2.0.36)\n",
            "Requirement already satisfied: otlmow_template>=0.5 in /usr/local/lib/python3.10/dist-packages (from otlmow-postenmapping) (0.5)\n",
            "Requirement already satisfied: openpyxl>=3.0 in /usr/local/lib/python3.10/dist-packages (from otlmow_converter>=1.5->otlmow-postenmapping) (3.1.5)\n",
            "Requirement already satisfied: otlmow-model>=2.13.4.0 in /usr/local/lib/python3.10/dist-packages (from otlmow_converter>=1.5->otlmow-postenmapping) (2.13.4.1)\n",
            "Requirement already satisfied: rdflib>=6.0.0 in /usr/local/lib/python3.10/dist-packages (from otlmow_converter>=1.5->otlmow-postenmapping) (7.1.1)\n",
            "Requirement already satisfied: geojson>=3.0.1 in /usr/local/lib/python3.10/dist-packages (from otlmow_converter>=1.5->otlmow-postenmapping) (3.1.0)\n",
            "Requirement already satisfied: prettytable>=3.6.0 in /usr/local/lib/python3.10/dist-packages (from otlmow_converter>=1.5->otlmow-postenmapping) (3.12.0)\n",
            "Requirement already satisfied: lxml>=4.9.3 in /usr/local/lib/python3.10/dist-packages (from otlmow_converter>=1.5->otlmow-postenmapping) (5.3.0)\n",
            "Requirement already satisfied: pandas>=1.3.5 in /usr/local/lib/python3.10/dist-packages (from otlmow_converter>=1.5->otlmow-postenmapping) (2.2.2)\n",
            "Requirement already satisfied: coverage>=3.7.1 in /usr/local/lib/python3.10/dist-packages (from otlmow_converter>=1.5->otlmow-postenmapping) (7.6.8)\n",
            "Requirement already satisfied: pytest>=6.2.5 in /usr/local/lib/python3.10/dist-packages (from otlmow_converter>=1.5->otlmow-postenmapping) (8.3.3)\n",
            "Requirement already satisfied: pytest-cov==4.0.0 in /usr/local/lib/python3.10/dist-packages (from otlmow_converter>=1.5->otlmow-postenmapping) (4.0.0)\n",
            "Requirement already satisfied: pytest-subtests>=0.8.0 in /usr/local/lib/python3.10/dist-packages (from otlmow_converter>=1.5->otlmow-postenmapping) (0.13.1)\n",
            "Requirement already satisfied: cachetools>=5.3.0 in /usr/local/lib/python3.10/dist-packages (from otlmow_converter>=1.5->otlmow-postenmapping) (5.5.0)\n",
            "Requirement already satisfied: otlmow-modelbuilder>=0.24 in /usr/local/lib/python3.10/dist-packages (from otlmow_template>=0.5->otlmow-postenmapping) (0.25)\n",
            "Requirement already satisfied: typing-extensions>=4.6.0 in /usr/local/lib/python3.10/dist-packages (from sqlalchemy>=2.0.35->otlmow-postenmapping) (4.12.2)\n",
            "Requirement already satisfied: greenlet!=0.4.17 in /usr/local/lib/python3.10/dist-packages (from sqlalchemy>=2.0.35->otlmow-postenmapping) (3.1.1)\n",
            "Requirement already satisfied: et-xmlfile in /usr/local/lib/python3.10/dist-packages (from openpyxl>=3.0->otlmow_converter>=1.5->otlmow-postenmapping) (2.0.0)\n",
            "Requirement already satisfied: tqdm>=4.66.1 in /usr/local/lib/python3.10/dist-packages (from otlmow-modelbuilder>=0.24->otlmow_template>=0.5->otlmow-postenmapping) (4.66.6)\n",
            "Requirement already satisfied: numpy>=1.22.4 in /usr/local/lib/python3.10/dist-packages (from pandas>=1.3.5->otlmow_converter>=1.5->otlmow-postenmapping) (1.26.4)\n",
            "Requirement already satisfied: python-dateutil>=2.8.2 in /usr/local/lib/python3.10/dist-packages (from pandas>=1.3.5->otlmow_converter>=1.5->otlmow-postenmapping) (2.8.2)\n",
            "Requirement already satisfied: pytz>=2020.1 in /usr/local/lib/python3.10/dist-packages (from pandas>=1.3.5->otlmow_converter>=1.5->otlmow-postenmapping) (2024.2)\n",
            "Requirement already satisfied: tzdata>=2022.7 in /usr/local/lib/python3.10/dist-packages (from pandas>=1.3.5->otlmow_converter>=1.5->otlmow-postenmapping) (2024.2)\n",
            "Requirement already satisfied: wcwidth in /usr/local/lib/python3.10/dist-packages (from prettytable>=3.6.0->otlmow_converter>=1.5->otlmow-postenmapping) (0.2.13)\n",
            "Requirement already satisfied: iniconfig in /usr/local/lib/python3.10/dist-packages (from pytest>=6.2.5->otlmow_converter>=1.5->otlmow-postenmapping) (2.0.0)\n",
            "Requirement already satisfied: packaging in /usr/local/lib/python3.10/dist-packages (from pytest>=6.2.5->otlmow_converter>=1.5->otlmow-postenmapping) (24.2)\n",
            "Requirement already satisfied: pluggy<2,>=1.5 in /usr/local/lib/python3.10/dist-packages (from pytest>=6.2.5->otlmow_converter>=1.5->otlmow-postenmapping) (1.5.0)\n",
            "Requirement already satisfied: exceptiongroup>=1.0.0rc8 in /usr/local/lib/python3.10/dist-packages (from pytest>=6.2.5->otlmow_converter>=1.5->otlmow-postenmapping) (1.2.2)\n",
            "Requirement already satisfied: tomli>=1 in /usr/local/lib/python3.10/dist-packages (from pytest>=6.2.5->otlmow_converter>=1.5->otlmow-postenmapping) (2.1.0)\n",
            "Requirement already satisfied: attrs>=19.2.0 in /usr/local/lib/python3.10/dist-packages (from pytest-subtests>=0.8.0->otlmow_converter>=1.5->otlmow-postenmapping) (24.2.0)\n",
            "Requirement already satisfied: isodate<1.0.0,>=0.7.2 in /usr/local/lib/python3.10/dist-packages (from rdflib>=6.0.0->otlmow_converter>=1.5->otlmow-postenmapping) (0.7.2)\n",
            "Requirement already satisfied: pyparsing<4,>=2.1.0 in /usr/local/lib/python3.10/dist-packages (from rdflib>=6.0.0->otlmow_converter>=1.5->otlmow-postenmapping) (3.2.0)\n",
            "Requirement already satisfied: six>=1.5 in /usr/local/lib/python3.10/dist-packages (from python-dateutil>=2.8.2->pandas>=1.3.5->otlmow_converter>=1.5->otlmow-postenmapping) (1.16.0)\n"
          ]
        }
      ]
    },
    {
      "cell_type": "markdown",
      "source": [
        "Download het testbestand (en voorlopig nog het artefact)"
      ],
      "metadata": {
        "id": "MRJHUivr0CbB"
      }
    },
    {
      "cell_type": "code",
      "source": [
        "from urllib.request import urlretrieve\n",
        "urlretrieve('https://github.com/davidvlaminck/OTLMOW-PostenMapping/raw/refs/heads/master/start_bestand.xlsx', 'start_bestand.xlsx')\n",
        "# urlretrieve('https://github.com/davidvlaminck/OTLMOW-PostenMapping/raw/refs/heads/master/templates-Mapping_Artefact-versie%20kris%200.1.db', 'templates-Mapping_Artefact-versie kris 0.1.db')\n",
        "urlretrieve('https://github.com/davidvlaminck/OTLMOW-PostenMapping/raw/refs/heads/master/templates-Mapping_Artefact-20241127.db', 'templates-Mapping_Artefact-20241127.db')"
      ],
      "metadata": {
        "id": "EXm2X7P10ExI",
        "colab": {
          "base_uri": "https://localhost:8080/"
        },
        "outputId": "fe51641d-f619-4fbb-c174-ad26ae45d8a1"
      },
      "execution_count": 2,
      "outputs": [
        {
          "output_type": "execute_result",
          "data": {
            "text/plain": [
              "('templates-Mapping_Artefact-20241127.db',\n",
              " <http.client.HTTPMessage at 0x7db8bae931c0>)"
            ]
          },
          "metadata": {},
          "execution_count": 2
        }
      ]
    },
    {
      "cell_type": "markdown",
      "source": [
        "Voer de **Postenmapping** uit:\n",
        "* Aanmaken eigenschappen van hoofdasset\n",
        "* Aanmaken child-assets, inclusief eigenschappen\n",
        "* Aanmaken relaties tussen assets\n"
      ],
      "metadata": {
        "id": "U4-tCyQB0Hmu"
      }
    },
    {
      "cell_type": "markdown",
      "source": [
        "Parameters van de functie **create_assets_from_mapping_and_write_to_file()**:\n",
        "\n",
        "- **keep_original_attributes**: keep the original attributes from the start_assets and do not overwrite them with attributes that are eventually defined in the Postenmapping template. *Behoud alle attribuutwaarden die aanwezig zijn voor de start-assets. Overschrijf ze niet met eventuele attribuutwaarden die in de Postenmapping template gedefinieerd zijn.*\n",
        "- **append_all_attributes**: in the output file, append all the attributes that are available for every asset. *In de output file, voeg alle attributen toe die beschikbaar zijn voor iedere asset. Zowel de hoofdasset als de child-assets.*"
      ],
      "metadata": {
        "id": "0kBYe8L7T1xv"
      }
    },
    {
      "cell_type": "code",
      "source": [
        "from pathlib import Path\n",
        "\n",
        "from otlmow_converter.OtlmowConverter import OtlmowConverter\n",
        "from otlmow_postenmapping.PostAssetFactory import PostAssetFactory\n",
        "\n",
        "\n",
        "this_directory = Path('.').parent\n",
        "f = PostAssetFactory(this_directory / 'templates-Mapping_Artefact-versie kris 0.1.db', directory=this_directory)\n",
        "\n",
        "start_assets = OtlmowConverter().from_file_to_objects(file_path=this_directory / 'start_bestand.xlsx')\n",
        "print(f'loaded {len(start_assets)} assets.')\n",
        "\n",
        "template_created_assets = []\n",
        "for i, asset in enumerate(start_assets):\n",
        "    template_created_assets.extend(f.create_assets_from_mapping(\n",
        "        'WVlichtmast_config1', asset, unique_index=i))\n",
        "\n",
        "OtlmowConverter().from_objects_to_file(sequence_of_objects=template_created_assets,\n",
        "                                        file_path=this_directory / 'output.xlsx')\n",
        "print(f'saved {len(template_created_assets)} assets.')"
      ],
      "metadata": {
        "id": "KwgI7tEi0J1k",
        "colab": {
          "base_uri": "https://localhost:8080/",
          "height": 529
        },
        "outputId": "fbf8b288-ee59-4a8a-f177-03368b82367f"
      },
      "execution_count": 5,
      "outputs": [
        {
          "output_type": "error",
          "ename": "ModuleNotFoundError",
          "evalue": "No module named 'UnitTests'",
          "traceback": [
            "\u001b[0;31m---------------------------------------------------------------------------\u001b[0m",
            "\u001b[0;31mModuleNotFoundError\u001b[0m                       Traceback (most recent call last)",
            "\u001b[0;32m<ipython-input-5-50544804af39>\u001b[0m in \u001b[0;36m<cell line: 4>\u001b[0;34m()\u001b[0m\n\u001b[1;32m      2\u001b[0m \u001b[0;34m\u001b[0m\u001b[0m\n\u001b[1;32m      3\u001b[0m \u001b[0;32mfrom\u001b[0m \u001b[0motlmow_converter\u001b[0m\u001b[0;34m.\u001b[0m\u001b[0mOtlmowConverter\u001b[0m \u001b[0;32mimport\u001b[0m \u001b[0mOtlmowConverter\u001b[0m\u001b[0;34m\u001b[0m\u001b[0;34m\u001b[0m\u001b[0m\n\u001b[0;32m----> 4\u001b[0;31m \u001b[0;32mfrom\u001b[0m \u001b[0motlmow_postenmapping\u001b[0m\u001b[0;34m.\u001b[0m\u001b[0mPostAssetFactory\u001b[0m \u001b[0;32mimport\u001b[0m \u001b[0mPostAssetFactory\u001b[0m\u001b[0;34m\u001b[0m\u001b[0;34m\u001b[0m\u001b[0m\n\u001b[0m\u001b[1;32m      5\u001b[0m \u001b[0;34m\u001b[0m\u001b[0m\n\u001b[1;32m      6\u001b[0m \u001b[0;34m\u001b[0m\u001b[0m\n",
            "\u001b[0;32m/usr/local/lib/python3.10/dist-packages/otlmow_postenmapping/PostAssetFactory.py\u001b[0m in \u001b[0;36m<module>\u001b[0;34m\u001b[0m\n\u001b[1;32m     15\u001b[0m \u001b[0;32mfrom\u001b[0m \u001b[0motlmow_postenmapping\u001b[0m\u001b[0;34m.\u001b[0m\u001b[0mExceptions\u001b[0m\u001b[0;34m.\u001b[0m\u001b[0mMultipleMappingKeysError\u001b[0m \u001b[0;32mimport\u001b[0m \u001b[0mMultipleMappingKeysError\u001b[0m\u001b[0;34m\u001b[0m\u001b[0;34m\u001b[0m\u001b[0m\n\u001b[1;32m     16\u001b[0m \u001b[0;32mfrom\u001b[0m \u001b[0motlmow_postenmapping\u001b[0m\u001b[0;34m.\u001b[0m\u001b[0mExceptions\u001b[0m\u001b[0;34m.\u001b[0m\u001b[0mMissingMappingKeyError\u001b[0m \u001b[0;32mimport\u001b[0m \u001b[0mMissingMappingKeyError\u001b[0m\u001b[0;34m\u001b[0m\u001b[0;34m\u001b[0m\u001b[0m\n\u001b[0;32m---> 17\u001b[0;31m \u001b[0;32mfrom\u001b[0m \u001b[0motlmow_postenmapping\u001b[0m\u001b[0;34m.\u001b[0m\u001b[0mPostenMappingTemplateModifier\u001b[0m \u001b[0;32mimport\u001b[0m \u001b[0mPostenMappingTemplateModifier\u001b[0m\u001b[0;34m,\u001b[0m \u001b[0mcreate_dummy_assets\u001b[0m\u001b[0;34m\u001b[0m\u001b[0;34m\u001b[0m\u001b[0m\n\u001b[0m\u001b[1;32m     18\u001b[0m \u001b[0;34m\u001b[0m\u001b[0m\n\u001b[1;32m     19\u001b[0m \u001b[0;34m\u001b[0m\u001b[0m\n",
            "\u001b[0;32m/usr/local/lib/python3.10/dist-packages/otlmow_postenmapping/PostenMappingTemplateModifier.py\u001b[0m in \u001b[0;36m<module>\u001b[0;34m\u001b[0m\n\u001b[1;32m      7\u001b[0m \u001b[0;32mfrom\u001b[0m \u001b[0motlmow_template\u001b[0m\u001b[0;34m.\u001b[0m\u001b[0mSubsetTemplateCreator\u001b[0m \u001b[0;32mimport\u001b[0m \u001b[0mSubsetTemplateCreator\u001b[0m\u001b[0;34m\u001b[0m\u001b[0;34m\u001b[0m\u001b[0m\n\u001b[1;32m      8\u001b[0m \u001b[0;34m\u001b[0m\u001b[0m\n\u001b[0;32m----> 9\u001b[0;31m \u001b[0;32mfrom\u001b[0m \u001b[0mUnitTests\u001b[0m\u001b[0;34m.\u001b[0m\u001b[0mTestModel\u001b[0m\u001b[0;34m.\u001b[0m\u001b[0mOtlmowModel\u001b[0m\u001b[0;34m.\u001b[0m\u001b[0mBaseClasses\u001b[0m\u001b[0;34m.\u001b[0m\u001b[0mOTLObject\u001b[0m \u001b[0;32mimport\u001b[0m \u001b[0mdynamic_create_instance_from_uri\u001b[0m\u001b[0;34m\u001b[0m\u001b[0;34m\u001b[0m\u001b[0m\n\u001b[0m\u001b[1;32m     10\u001b[0m \u001b[0;32mfrom\u001b[0m \u001b[0motlmow_converter\u001b[0m\u001b[0;34m.\u001b[0m\u001b[0mDotnotationHelper\u001b[0m \u001b[0;32mimport\u001b[0m \u001b[0mDotnotationHelper\u001b[0m\u001b[0;34m\u001b[0m\u001b[0;34m\u001b[0m\u001b[0m\n\u001b[1;32m     11\u001b[0m \u001b[0;34m\u001b[0m\u001b[0m\n",
            "\u001b[0;31mModuleNotFoundError\u001b[0m: No module named 'UnitTests'",
            "",
            "\u001b[0;31m---------------------------------------------------------------------------\u001b[0;32m\nNOTE: If your import is failing due to a missing package, you can\nmanually install dependencies using either !pip or !apt.\n\nTo view examples of installing some common dependencies, click the\n\"Open Examples\" button below.\n\u001b[0;31m---------------------------------------------------------------------------\u001b[0m\n"
          ],
          "errorDetails": {
            "actions": [
              {
                "action": "open_url",
                "actionText": "Open Examples",
                "url": "/notebooks/snippets/importing_libraries.ipynb"
              }
            ]
          }
        }
      ]
    },
    {
      "cell_type": "code",
      "source": [
        "from pathlib import Path\n",
        "from otlmow_converter.OtlmowConverter import OtlmowConverter\n",
        "from otlmow_postenmapping.PostAssetFactory import PostAssetFactory\n",
        "from otlmow_model.OtlmowModel.BaseClasses.OTLObject import dynamic_create_instance_from_uri\n",
        "\n",
        "this_directory = Path('.').parent\n",
        "f = PostAssetFactory(this_directory / 'templates-Mapping_Artefact-versie kris 0.1.db',\n",
        "                      directory=this_directory,\n",
        "                      mapping_name='templates_mapping_artefact_krisVDS'\n",
        "                      )\n",
        "f = PostAssetFactory(this_directory / 'templates-Mapping_Artefact-20241127.db',\n",
        "                      directory=this_directory#,\n",
        "                     # test zonder output name van de mapping file.\n",
        "                      #mapping_name='templates_mapping_artefact_krisVDS'\n",
        "                      )\n",
        "\n",
        "start_assets = OtlmowConverter().from_file_to_objects(file_path=this_directory / 'start_bestand.xlsx')\n",
        "\n",
        "f.create_assets_from_mapping_and_write_to_file(start_assets=start_assets,\n",
        "                                                output_path=this_directory / 'output.xlsx',\n",
        "                                                keep_original_attributes=True,\n",
        "                                                append_all_attributes=True\n",
        "                                                )"
      ],
      "metadata": {
        "id": "UKUCnKiL-QTB",
        "outputId": "a1d23ed4-6ebd-4398-97b9-5185867e9cf0",
        "colab": {
          "base_uri": "https://localhost:8080/",
          "height": 651
        }
      },
      "execution_count": 7,
      "outputs": [
        {
          "output_type": "error",
          "ename": "ModuleNotFoundError",
          "evalue": "No module named 'UnitTests'",
          "traceback": [
            "\u001b[0;31m---------------------------------------------------------------------------\u001b[0m",
            "\u001b[0;31mModuleNotFoundError\u001b[0m                       Traceback (most recent call last)",
            "\u001b[0;32m<ipython-input-7-942564afdee1>\u001b[0m in \u001b[0;36m<cell line: 3>\u001b[0;34m()\u001b[0m\n\u001b[1;32m      1\u001b[0m \u001b[0;32mfrom\u001b[0m \u001b[0mpathlib\u001b[0m \u001b[0;32mimport\u001b[0m \u001b[0mPath\u001b[0m\u001b[0;34m\u001b[0m\u001b[0;34m\u001b[0m\u001b[0m\n\u001b[1;32m      2\u001b[0m \u001b[0;32mfrom\u001b[0m \u001b[0motlmow_converter\u001b[0m\u001b[0;34m.\u001b[0m\u001b[0mOtlmowConverter\u001b[0m \u001b[0;32mimport\u001b[0m \u001b[0mOtlmowConverter\u001b[0m\u001b[0;34m\u001b[0m\u001b[0;34m\u001b[0m\u001b[0m\n\u001b[0;32m----> 3\u001b[0;31m \u001b[0;32mfrom\u001b[0m \u001b[0motlmow_postenmapping\u001b[0m\u001b[0;34m.\u001b[0m\u001b[0mPostAssetFactory\u001b[0m \u001b[0;32mimport\u001b[0m \u001b[0mPostAssetFactory\u001b[0m\u001b[0;34m\u001b[0m\u001b[0;34m\u001b[0m\u001b[0m\n\u001b[0m\u001b[1;32m      4\u001b[0m \u001b[0;32mfrom\u001b[0m \u001b[0motlmow_model\u001b[0m\u001b[0;34m.\u001b[0m\u001b[0mOtlmowModel\u001b[0m\u001b[0;34m.\u001b[0m\u001b[0mBaseClasses\u001b[0m\u001b[0;34m.\u001b[0m\u001b[0mOTLObject\u001b[0m \u001b[0;32mimport\u001b[0m \u001b[0mdynamic_create_instance_from_uri\u001b[0m\u001b[0;34m\u001b[0m\u001b[0;34m\u001b[0m\u001b[0m\n\u001b[1;32m      5\u001b[0m \u001b[0;34m\u001b[0m\u001b[0m\n",
            "\u001b[0;32m/usr/local/lib/python3.10/dist-packages/otlmow_postenmapping/PostAssetFactory.py\u001b[0m in \u001b[0;36m<module>\u001b[0;34m\u001b[0m\n\u001b[1;32m     15\u001b[0m \u001b[0;32mfrom\u001b[0m \u001b[0motlmow_postenmapping\u001b[0m\u001b[0;34m.\u001b[0m\u001b[0mExceptions\u001b[0m\u001b[0;34m.\u001b[0m\u001b[0mMultipleMappingKeysError\u001b[0m \u001b[0;32mimport\u001b[0m \u001b[0mMultipleMappingKeysError\u001b[0m\u001b[0;34m\u001b[0m\u001b[0;34m\u001b[0m\u001b[0m\n\u001b[1;32m     16\u001b[0m \u001b[0;32mfrom\u001b[0m \u001b[0motlmow_postenmapping\u001b[0m\u001b[0;34m.\u001b[0m\u001b[0mExceptions\u001b[0m\u001b[0;34m.\u001b[0m\u001b[0mMissingMappingKeyError\u001b[0m \u001b[0;32mimport\u001b[0m \u001b[0mMissingMappingKeyError\u001b[0m\u001b[0;34m\u001b[0m\u001b[0;34m\u001b[0m\u001b[0m\n\u001b[0;32m---> 17\u001b[0;31m \u001b[0;32mfrom\u001b[0m \u001b[0motlmow_postenmapping\u001b[0m\u001b[0;34m.\u001b[0m\u001b[0mPostenMappingTemplateModifier\u001b[0m \u001b[0;32mimport\u001b[0m \u001b[0mPostenMappingTemplateModifier\u001b[0m\u001b[0;34m,\u001b[0m \u001b[0mcreate_dummy_assets\u001b[0m\u001b[0;34m\u001b[0m\u001b[0;34m\u001b[0m\u001b[0m\n\u001b[0m\u001b[1;32m     18\u001b[0m \u001b[0;34m\u001b[0m\u001b[0m\n\u001b[1;32m     19\u001b[0m \u001b[0;34m\u001b[0m\u001b[0m\n",
            "\u001b[0;32m/usr/local/lib/python3.10/dist-packages/otlmow_postenmapping/PostenMappingTemplateModifier.py\u001b[0m in \u001b[0;36m<module>\u001b[0;34m\u001b[0m\n\u001b[1;32m      7\u001b[0m \u001b[0;32mfrom\u001b[0m \u001b[0motlmow_template\u001b[0m\u001b[0;34m.\u001b[0m\u001b[0mSubsetTemplateCreator\u001b[0m \u001b[0;32mimport\u001b[0m \u001b[0mSubsetTemplateCreator\u001b[0m\u001b[0;34m\u001b[0m\u001b[0;34m\u001b[0m\u001b[0m\n\u001b[1;32m      8\u001b[0m \u001b[0;34m\u001b[0m\u001b[0m\n\u001b[0;32m----> 9\u001b[0;31m \u001b[0;32mfrom\u001b[0m \u001b[0mUnitTests\u001b[0m\u001b[0;34m.\u001b[0m\u001b[0mTestModel\u001b[0m\u001b[0;34m.\u001b[0m\u001b[0mOtlmowModel\u001b[0m\u001b[0;34m.\u001b[0m\u001b[0mBaseClasses\u001b[0m\u001b[0;34m.\u001b[0m\u001b[0mOTLObject\u001b[0m \u001b[0;32mimport\u001b[0m \u001b[0mdynamic_create_instance_from_uri\u001b[0m\u001b[0;34m\u001b[0m\u001b[0;34m\u001b[0m\u001b[0m\n\u001b[0m\u001b[1;32m     10\u001b[0m \u001b[0;32mfrom\u001b[0m \u001b[0motlmow_converter\u001b[0m\u001b[0;34m.\u001b[0m\u001b[0mDotnotationHelper\u001b[0m \u001b[0;32mimport\u001b[0m \u001b[0mDotnotationHelper\u001b[0m\u001b[0;34m\u001b[0m\u001b[0;34m\u001b[0m\u001b[0m\n\u001b[1;32m     11\u001b[0m \u001b[0;34m\u001b[0m\u001b[0m\n",
            "\u001b[0;31mModuleNotFoundError\u001b[0m: No module named 'UnitTests'",
            "",
            "\u001b[0;31m---------------------------------------------------------------------------\u001b[0;32m\nNOTE: If your import is failing due to a missing package, you can\nmanually install dependencies using either !pip or !apt.\n\nTo view examples of installing some common dependencies, click the\n\"Open Examples\" button below.\n\u001b[0;31m---------------------------------------------------------------------------\u001b[0m\n"
          ],
          "errorDetails": {
            "actions": [
              {
                "action": "open_url",
                "actionText": "Open Examples",
                "url": "/notebooks/snippets/importing_libraries.ipynb"
              }
            ]
          }
        }
      ]
    },
    {
      "cell_type": "markdown",
      "source": [],
      "metadata": {
        "id": "sA00pntO0NjO"
      }
    }
  ]
}