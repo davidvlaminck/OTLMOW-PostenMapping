{
  "nbformat": 4,
  "nbformat_minor": 0,
  "metadata": {
    "colab": {
      "provenance": [],
      "authorship_tag": "ABX9TyN155Ag7pi0WNP6zA2rADpe",
      "include_colab_link": true
    },
    "kernelspec": {
      "name": "python3",
      "display_name": "Python 3"
    },
    "language_info": {
      "name": "python"
    }
  },
  "cells": [
    {
      "cell_type": "markdown",
      "metadata": {
        "id": "view-in-github",
        "colab_type": "text"
      },
      "source": [
        "<a href=\"https://colab.research.google.com/github/davidvlaminck/OTLMOW-PostenMapping/blob/master/demo_bim4infra/demo_BIM4Infra.ipynb\" target=\"_parent\"><img src=\"https://colab.research.google.com/assets/colab-badge.svg\" alt=\"Open In Colab\"/></a>"
      ]
    },
    {
      "cell_type": "markdown",
      "source": [
        "Installeer de library"
      ],
      "metadata": {
        "id": "trTGxdykz-IP"
      }
    },
    {
      "cell_type": "code",
      "source": [
        "pip install otlmow-postenmapping"
      ],
      "metadata": {
        "id": "qdTEb5g30AI_",
        "colab": {
          "base_uri": "https://localhost:8080/"
        },
        "outputId": "d642971b-8c1f-462d-fae3-ffd548ec7ba6",
        "collapsed": true
      },
      "execution_count": 1,
      "outputs": [
        {
          "output_type": "stream",
          "name": "stdout",
          "text": [
            "Collecting otlmow-postenmapping\n",
            "  Downloading otlmow_postenmapping-0.5-py3-none-any.whl.metadata (44 kB)\n",
            "\u001b[2K     \u001b[90m━━━━━━━━━━━━━━━━━━━━━━━━━━━━━━━━━━━━━━━━\u001b[0m \u001b[32m44.1/44.1 kB\u001b[0m \u001b[31m2.5 MB/s\u001b[0m eta \u001b[36m0:00:00\u001b[0m\n",
            "\u001b[?25hCollecting otlmow_converter>=1.5 (from otlmow-postenmapping)\n",
            "  Downloading otlmow_converter-1.6-py3-none-any.whl.metadata (46 kB)\n",
            "\u001b[2K     \u001b[90m━━━━━━━━━━━━━━━━━━━━━━━━━━━━━━━━━━━━━━━━\u001b[0m \u001b[32m46.9/46.9 kB\u001b[0m \u001b[31m1.6 MB/s\u001b[0m eta \u001b[36m0:00:00\u001b[0m\n",
            "\u001b[?25hRequirement already satisfied: sqlalchemy>=2.0.35 in /usr/local/lib/python3.10/dist-packages (from otlmow-postenmapping) (2.0.36)\n",
            "Collecting otlmow_template>=0.5 (from otlmow-postenmapping)\n",
            "  Downloading otlmow_template-0.7-py3-none-any.whl.metadata (43 kB)\n",
            "\u001b[2K     \u001b[90m━━━━━━━━━━━━━━━━━━━━━━━━━━━━━━━━━━━━━━━━\u001b[0m \u001b[32m44.0/44.0 kB\u001b[0m \u001b[31m1.8 MB/s\u001b[0m eta \u001b[36m0:00:00\u001b[0m\n",
            "\u001b[?25hRequirement already satisfied: openpyxl>=3.0 in /usr/local/lib/python3.10/dist-packages (from otlmow_converter>=1.5->otlmow-postenmapping) (3.1.5)\n",
            "Collecting otlmow-model>=2.13.4.0 (from otlmow_converter>=1.5->otlmow-postenmapping)\n",
            "  Downloading otlmow_model-2.13.4.1-py3-none-any.whl.metadata (45 kB)\n",
            "\u001b[2K     \u001b[90m━━━━━━━━━━━━━━━━━━━━━━━━━━━━━━━━━━━━━━━━\u001b[0m \u001b[32m45.8/45.8 kB\u001b[0m \u001b[31m2.3 MB/s\u001b[0m eta \u001b[36m0:00:00\u001b[0m\n",
            "\u001b[?25hCollecting rdflib>=6.0.0 (from otlmow_converter>=1.5->otlmow-postenmapping)\n",
            "  Downloading rdflib-7.1.1-py3-none-any.whl.metadata (11 kB)\n",
            "Collecting geojson>=3.0.1 (from otlmow_converter>=1.5->otlmow-postenmapping)\n",
            "  Downloading geojson-3.1.0-py3-none-any.whl.metadata (16 kB)\n",
            "Requirement already satisfied: prettytable>=3.6.0 in /usr/local/lib/python3.10/dist-packages (from otlmow_converter>=1.5->otlmow-postenmapping) (3.12.0)\n",
            "Requirement already satisfied: lxml>=4.9.3 in /usr/local/lib/python3.10/dist-packages (from otlmow_converter>=1.5->otlmow-postenmapping) (5.3.0)\n",
            "Requirement already satisfied: pandas>=1.3.5 in /usr/local/lib/python3.10/dist-packages (from otlmow_converter>=1.5->otlmow-postenmapping) (2.2.2)\n",
            "Collecting coverage>=3.7.1 (from otlmow_converter>=1.5->otlmow-postenmapping)\n",
            "  Downloading coverage-7.6.8-cp310-cp310-manylinux_2_5_x86_64.manylinux1_x86_64.manylinux_2_17_x86_64.manylinux2014_x86_64.whl.metadata (8.2 kB)\n",
            "Requirement already satisfied: pytest>=6.2.5 in /usr/local/lib/python3.10/dist-packages (from otlmow_converter>=1.5->otlmow-postenmapping) (8.3.3)\n",
            "Collecting pytest-cov==4.0.0 (from otlmow_converter>=1.5->otlmow-postenmapping)\n",
            "  Downloading pytest_cov-4.0.0-py3-none-any.whl.metadata (25 kB)\n",
            "Collecting pytest-subtests>=0.8.0 (from otlmow_converter>=1.5->otlmow-postenmapping)\n",
            "  Downloading pytest_subtests-0.13.1-py3-none-any.whl.metadata (6.1 kB)\n",
            "Requirement already satisfied: cachetools>=5.3.0 in /usr/local/lib/python3.10/dist-packages (from otlmow_converter>=1.5->otlmow-postenmapping) (5.5.0)\n",
            "Collecting otlmow-modelbuilder>=0.24 (from otlmow_template>=0.5->otlmow-postenmapping)\n",
            "  Downloading otlmow_modelbuilder-0.25-py3-none-any.whl.metadata (43 kB)\n",
            "\u001b[2K     \u001b[90m━━━━━━━━━━━━━━━━━━━━━━━━━━━━━━━━━━━━━━━━\u001b[0m \u001b[32m43.4/43.4 kB\u001b[0m \u001b[31m2.7 MB/s\u001b[0m eta \u001b[36m0:00:00\u001b[0m\n",
            "\u001b[?25hRequirement already satisfied: typing-extensions>=4.6.0 in /usr/local/lib/python3.10/dist-packages (from sqlalchemy>=2.0.35->otlmow-postenmapping) (4.12.2)\n",
            "Requirement already satisfied: greenlet!=0.4.17 in /usr/local/lib/python3.10/dist-packages (from sqlalchemy>=2.0.35->otlmow-postenmapping) (3.1.1)\n",
            "Requirement already satisfied: et-xmlfile in /usr/local/lib/python3.10/dist-packages (from openpyxl>=3.0->otlmow_converter>=1.5->otlmow-postenmapping) (2.0.0)\n",
            "Requirement already satisfied: tqdm>=4.66.1 in /usr/local/lib/python3.10/dist-packages (from otlmow-modelbuilder>=0.24->otlmow_template>=0.5->otlmow-postenmapping) (4.66.6)\n",
            "Requirement already satisfied: numpy>=1.22.4 in /usr/local/lib/python3.10/dist-packages (from pandas>=1.3.5->otlmow_converter>=1.5->otlmow-postenmapping) (1.26.4)\n",
            "Requirement already satisfied: python-dateutil>=2.8.2 in /usr/local/lib/python3.10/dist-packages (from pandas>=1.3.5->otlmow_converter>=1.5->otlmow-postenmapping) (2.8.2)\n",
            "Requirement already satisfied: pytz>=2020.1 in /usr/local/lib/python3.10/dist-packages (from pandas>=1.3.5->otlmow_converter>=1.5->otlmow-postenmapping) (2024.2)\n",
            "Requirement already satisfied: tzdata>=2022.7 in /usr/local/lib/python3.10/dist-packages (from pandas>=1.3.5->otlmow_converter>=1.5->otlmow-postenmapping) (2024.2)\n",
            "Requirement already satisfied: wcwidth in /usr/local/lib/python3.10/dist-packages (from prettytable>=3.6.0->otlmow_converter>=1.5->otlmow-postenmapping) (0.2.13)\n",
            "Requirement already satisfied: iniconfig in /usr/local/lib/python3.10/dist-packages (from pytest>=6.2.5->otlmow_converter>=1.5->otlmow-postenmapping) (2.0.0)\n",
            "Requirement already satisfied: packaging in /usr/local/lib/python3.10/dist-packages (from pytest>=6.2.5->otlmow_converter>=1.5->otlmow-postenmapping) (24.2)\n",
            "Requirement already satisfied: pluggy<2,>=1.5 in /usr/local/lib/python3.10/dist-packages (from pytest>=6.2.5->otlmow_converter>=1.5->otlmow-postenmapping) (1.5.0)\n",
            "Requirement already satisfied: exceptiongroup>=1.0.0rc8 in /usr/local/lib/python3.10/dist-packages (from pytest>=6.2.5->otlmow_converter>=1.5->otlmow-postenmapping) (1.2.2)\n",
            "Requirement already satisfied: tomli>=1 in /usr/local/lib/python3.10/dist-packages (from pytest>=6.2.5->otlmow_converter>=1.5->otlmow-postenmapping) (2.1.0)\n",
            "Requirement already satisfied: attrs>=19.2.0 in /usr/local/lib/python3.10/dist-packages (from pytest-subtests>=0.8.0->otlmow_converter>=1.5->otlmow-postenmapping) (24.2.0)\n",
            "Collecting isodate<1.0.0,>=0.7.2 (from rdflib>=6.0.0->otlmow_converter>=1.5->otlmow-postenmapping)\n",
            "  Downloading isodate-0.7.2-py3-none-any.whl.metadata (11 kB)\n",
            "Requirement already satisfied: pyparsing<4,>=2.1.0 in /usr/local/lib/python3.10/dist-packages (from rdflib>=6.0.0->otlmow_converter>=1.5->otlmow-postenmapping) (3.2.0)\n",
            "Requirement already satisfied: six>=1.5 in /usr/local/lib/python3.10/dist-packages (from python-dateutil>=2.8.2->pandas>=1.3.5->otlmow_converter>=1.5->otlmow-postenmapping) (1.16.0)\n",
            "Downloading otlmow_postenmapping-0.5-py3-none-any.whl (42 kB)\n",
            "\u001b[2K   \u001b[90m━━━━━━━━━━━━━━━━━━━━━━━━━━━━━━━━━━━━━━━━\u001b[0m \u001b[32m42.4/42.4 kB\u001b[0m \u001b[31m2.9 MB/s\u001b[0m eta \u001b[36m0:00:00\u001b[0m\n",
            "\u001b[?25hDownloading otlmow_converter-1.6-py3-none-any.whl (68 kB)\n",
            "\u001b[2K   \u001b[90m━━━━━━━━━━━━━━━━━━━━━━━━━━━━━━━━━━━━━━━━\u001b[0m \u001b[32m68.4/68.4 kB\u001b[0m \u001b[31m5.4 MB/s\u001b[0m eta \u001b[36m0:00:00\u001b[0m\n",
            "\u001b[?25hDownloading pytest_cov-4.0.0-py3-none-any.whl (21 kB)\n",
            "Downloading otlmow_template-0.7-py3-none-any.whl (36 kB)\n",
            "Downloading coverage-7.6.8-cp310-cp310-manylinux_2_5_x86_64.manylinux1_x86_64.manylinux_2_17_x86_64.manylinux2014_x86_64.whl (234 kB)\n",
            "\u001b[2K   \u001b[90m━━━━━━━━━━━━━━━━━━━━━━━━━━━━━━━━━━━━━━━━\u001b[0m \u001b[32m234.9/234.9 kB\u001b[0m \u001b[31m8.6 MB/s\u001b[0m eta \u001b[36m0:00:00\u001b[0m\n",
            "\u001b[?25hDownloading geojson-3.1.0-py3-none-any.whl (15 kB)\n",
            "Downloading otlmow_model-2.13.4.1-py3-none-any.whl (2.1 MB)\n",
            "\u001b[2K   \u001b[90m━━━━━━━━━━━━━━━━━━━━━━━━━━━━━━━━━━━━━━━━\u001b[0m \u001b[32m2.1/2.1 MB\u001b[0m \u001b[31m44.7 MB/s\u001b[0m eta \u001b[36m0:00:00\u001b[0m\n",
            "\u001b[?25hDownloading otlmow_modelbuilder-0.25-py3-none-any.whl (61 kB)\n",
            "\u001b[2K   \u001b[90m━━━━━━━━━━━━━━━━━━━━━━━━━━━━━━━━━━━━━━━━\u001b[0m \u001b[32m61.4/61.4 kB\u001b[0m \u001b[31m4.2 MB/s\u001b[0m eta \u001b[36m0:00:00\u001b[0m\n",
            "\u001b[?25hDownloading pytest_subtests-0.13.1-py3-none-any.whl (8.0 kB)\n",
            "Downloading rdflib-7.1.1-py3-none-any.whl (562 kB)\n",
            "\u001b[2K   \u001b[90m━━━━━━━━━━━━━━━━━━━━━━━━━━━━━━━━━━━━━━━━\u001b[0m \u001b[32m562.4/562.4 kB\u001b[0m \u001b[31m31.3 MB/s\u001b[0m eta \u001b[36m0:00:00\u001b[0m\n",
            "\u001b[?25hDownloading isodate-0.7.2-py3-none-any.whl (22 kB)\n",
            "Installing collected packages: otlmow-model, isodate, geojson, coverage, rdflib, pytest-subtests, pytest-cov, otlmow-modelbuilder, otlmow_converter, otlmow_template, otlmow-postenmapping\n",
            "Successfully installed coverage-7.6.8 geojson-3.1.0 isodate-0.7.2 otlmow-model-2.13.4.1 otlmow-modelbuilder-0.25 otlmow-postenmapping-0.5 otlmow_converter-1.6 otlmow_template-0.7 pytest-cov-4.0.0 pytest-subtests-0.13.1 rdflib-7.1.1\n"
          ]
        }
      ]
    },
    {
      "cell_type": "markdown",
      "source": [
        "Importeer de modules"
      ],
      "metadata": {
        "id": "EB31lv2-Z-SV"
      }
    },
    {
      "cell_type": "code",
      "source": [
        "from pathlib import Path\n",
        "from otlmow_converter.OtlmowConverter import OtlmowConverter\n",
        "from otlmow_postenmapping.PostAssetFactory import PostAssetFactory\n",
        "\n",
        "this_directory = Path('.').parent"
      ],
      "metadata": {
        "id": "-90owmFUaniq"
      },
      "execution_count": 2,
      "outputs": []
    },
    {
      "cell_type": "markdown",
      "source": [
        "Download het testbestand en het artefact"
      ],
      "metadata": {
        "id": "MRJHUivr0CbB"
      }
    },
    {
      "cell_type": "code",
      "source": [
        "from urllib.request import urlretrieve\n",
        "\n",
        "urlretrieve('https://github.com/davidvlaminck/OTLMOW-PostenMapping/raw/refs/heads/master/demo_bim4infra/start_bestand_demo_bim4infra.xlsx', 'start_bestand_demo_bim4infra.xlsx')\n",
        "urlretrieve('https://github.com/davidvlaminck/OTLMOW-PostenMapping/raw/refs/heads/master/demo_bim4infra/demo_bim4infra.db', 'demo_bim4infra.db')"
      ],
      "metadata": {
        "id": "EXm2X7P10ExI",
        "colab": {
          "base_uri": "https://localhost:8080/"
        },
        "outputId": "e60122cd-609c-4b57-f2af-af5eacf71964",
        "collapsed": true
      },
      "execution_count": 3,
      "outputs": [
        {
          "output_type": "execute_result",
          "data": {
            "text/plain": [
              "('demo_bim4infra.db', <http.client.HTTPMessage at 0x7fe960b81480>)"
            ]
          },
          "metadata": {},
          "execution_count": 3
        }
      ]
    },
    {
      "cell_type": "markdown",
      "source": [
        "# Voer de **Postenmapping** uit:\n",
        "\n",
        "* Aanmaken eigenschappen van hoofdasset\n",
        "* Aanmaken child-assets, inclusief eigenschappen\n",
        "* Aanmaken relaties tussen assets"
      ],
      "metadata": {
        "id": "mXcpRbxEZ1FL"
      }
    },
    {
      "cell_type": "markdown",
      "source": [
        "Maak een PostAssetFactory aan. Importeer de SQLITE PostenMappingArtefact."
      ],
      "metadata": {
        "id": "sA00pntO0NjO"
      }
    },
    {
      "cell_type": "code",
      "source": [
        "f = PostAssetFactory(mapping_artefact_path=this_directory / 'demo_bim4infra.db',\n",
        "                     directory=this_directory)"
      ],
      "metadata": {
        "id": "8vK6t2MIbXsF"
      },
      "execution_count": 4,
      "outputs": []
    },
    {
      "cell_type": "markdown",
      "source": [
        "Lees de start-assets in en converteer deze naar OTLObjecten."
      ],
      "metadata": {
        "id": "BPTTEzfnazGA"
      }
    },
    {
      "cell_type": "code",
      "source": [
        "start_assets = OtlmowConverter().from_file_to_objects(file_path=this_directory / 'start_bestand_demo_bim4infra.xlsx')"
      ],
      "metadata": {
        "id": "Qhc3ai_MbanB"
      },
      "execution_count": 5,
      "outputs": []
    },
    {
      "cell_type": "markdown",
      "source": [
        "Creëer assets en schrijf weg naar een Excel file.\n",
        "\n",
        "Parameters van de functie **create_assets_from_mapping_and_write_to_file()**:\n",
        "\n",
        "- **overwrite_original_attributes**: overwrites the original attributes from the start-asset with the value defined in the Postenmapping template. *Overschrijf de originele attribuutwaarden van de start-assets met de waarde gedefinieerd in de Postenmapping template*\n",
        "- **append_all_attributes**: in the output file, append all the attributes that are available for every asset. *In de output file, voeg alle attributen toe die beschikbaar zijn voor iedere asset.*"
      ],
      "metadata": {
        "id": "PhBLMVxPa53w"
      }
    },
    {
      "cell_type": "code",
      "source": [
        "f.create_assets_from_mapping_and_write_to_file(start_assets=start_assets,\n",
        "                                                output_path=this_directory / 'output.xlsx',\n",
        "                                                overwrite_original_attributes_by_mapping=False,\n",
        "                                                append_all_attributes=True\n",
        "                                                )"
      ],
      "metadata": {
        "id": "UKUCnKiL-QTB",
        "outputId": "c20fe27d-760d-4299-e665-bc9c060a77cf",
        "colab": {
          "base_uri": "https://localhost:8080/"
        }
      },
      "execution_count": 8,
      "outputs": [
        {
          "output_type": "stream",
          "name": "stderr",
          "text": [
            "WARNING:root:https://wegenenverkeer.data.vlaanderen.be/ns/onderdeel#Lichtmast.beschermlaag is deprecated since version 2.12.0\n",
            "WARNING:root:https://wegenenverkeer.data.vlaanderen.be/ns/onderdeel#Lichtmast.beschermlaag is deprecated since version 2.12.0\n",
            "WARNING:root:https://wegenenverkeer.data.vlaanderen.be/ns/onderdeel#Lichtmast.beschermlaag is deprecated since version 2.12.0\n",
            "WARNING:root:https://wegenenverkeer.data.vlaanderen.be/ns/onderdeel#Lichtmast.beschermlaag is deprecated since version 2.12.0\n",
            "WARNING:root:https://wegenenverkeer.data.vlaanderen.be/ns/onderdeel#Lichtmast.beschermlaag is deprecated since version 2.12.0\n",
            "WARNING:root:https://wegenenverkeer.data.vlaanderen.be/ns/onderdeel#Lichtmast.beschermlaag is deprecated since version 2.12.0\n",
            "WARNING:root:https://wegenenverkeer.data.vlaanderen.be/ns/onderdeel#VerlichtingstoestelLED.armatuurkleur is deprecated since version 2.3.0\n",
            "WARNING:root:https://wegenenverkeer.data.vlaanderen.be/ns/onderdeel#VerlichtingstoestelLED.armatuurkleur is deprecated since version 2.3.0\n",
            "WARNING:root:https://wegenenverkeer.data.vlaanderen.be/ns/onderdeel#VerlichtingstoestelLED.tussenAfstand is deprecated since version 2.4.0\n",
            "WARNING:root:https://wegenenverkeer.data.vlaanderen.be/ns/onderdeel#VerlichtingstoestelLED.armatuurkleur is deprecated since version 2.3.0\n"
          ]
        }
      ]
    }
  ]
}